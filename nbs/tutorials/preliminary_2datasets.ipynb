{
 "cells": [
  {
   "cell_type": "code",
   "execution_count": 1,
   "id": "6785aef8-bcab-4752-86a5-fe5ff16b8c91",
   "metadata": {
    "editable": true,
    "slideshow": {
     "slide_type": ""
    },
    "tags": []
   },
   "outputs": [],
   "source": [
    "import pickle\n",
    "import numpy as np\n",
    "import pandas as pd\n",
    "import ruptures as rpt\n",
    "from pathlib import Path\n",
    "from scipy.io import loadmat\n",
    "from tqdm.notebook import tqdm\n",
    "import matplotlib.pyplot as plt\n",
    "\n",
    "from step.data import *\n",
    "from step.models import *\n",
    "#from step.utils import diffusion_coefficient_tmsd\n",
    "\n",
    "from tqdm.auto import tqdm\n",
    "from fastai.vision.all import *"
   ]
  },
  {
   "cell_type": "markdown",
   "id": "6da37e44-6a41-47a9-862b-8caffa8d88d8",
   "metadata": {
    "tags": []
   },
   "source": [
    "# Analysis functions"
   ]
  },
  {
   "cell_type": "code",
   "execution_count": 2,
   "id": "2565d309-cc6b-44e0-937b-6847be651942",
   "metadata": {
    "tags": []
   },
   "outputs": [],
   "source": [
    "# Defino esto aquí para que no tengas que instalar la librería\n",
    "def tamsd(x, dt=1):\n",
    "    \"Computes the time averaged mean squared displacement of a trajectory `x`.\"\n",
    "    return ((x[dt:] - x[:-dt])**2).sum(-1).mean()\n",
    "\n",
    "def diffusion_coefficient_tamsd(x, t_lag=[1, 2]):\n",
    "    \"Estimates the diffusion coefficient fitting the `tmsd` for different `dt`.\"\n",
    "    tamsds = [tamsd(x, dt) for dt in t_lag]\n",
    "    D = np.polyfit(t_lag, tamsds, 1)[0]\n",
    "    return D/2/x.shape[-1]"
   ]
  },
  {
   "cell_type": "code",
   "execution_count": 3,
   "id": "eb979aab-55e8-456b-ba0e-01c6f2c4567f",
   "metadata": {
    "tags": []
   },
   "outputs": [],
   "source": [
    "import math\n",
    " \n",
    "def get_angle(a, b, c):\n",
    "    vector_1 = b - a\n",
    "    vector_2 = c - b \n",
    "    unit_vector_1 = vector_1 / np.linalg.norm(vector_1)\n",
    "    unit_vector_2 = vector_2 / np.linalg.norm(vector_2)\n",
    "    dot_product = np.dot(unit_vector_1, unit_vector_2)\n",
    "    ang = math.degrees(np.arccos(dot_product))\n",
    "    d = np.cross(vector_2,vector_1)\n",
    "    return ang if d < 0 else -ang\n",
    "\n",
    "def dataset_angles(trajs):\n",
    "    angles = []\n",
    "    for traj in trajs:\n",
    "        for a, b, c in zip(traj[:, :-2].transpose(), traj[:, 1:-1].transpose(), traj[:, 2:].transpose()):\n",
    "            angles.append(get_angle(a, b, c))\n",
    "    return angles\n",
    "\n",
    "def confinement_radius(x, nm_per_pxl=160):\n",
    "    \"\"\"Compute the confinement radius of a trajectory segment.\"\"\"\n",
    "    cov = np.cov(x)\n",
    "    e_vals, _ = np.linalg.eigh(cov)\n",
    "    return 2 * nm_per_pxl * np.sqrt(e_vals.mean())"
   ]
  },
  {
   "cell_type": "markdown",
   "id": "0900e086-f0cd-4e8a-9407-9bc81a40df73",
   "metadata": {
    "tags": []
   },
   "source": [
    "## Load the data\n",
    "\n",
    "We start our analysis by loading the trajectories with their predictions."
   ]
  },
  {
   "cell_type": "code",
   "execution_count": 4,
   "id": "752662b0-e95e-4608-b511-90ee913e1758",
   "metadata": {},
   "outputs": [],
   "source": [
    "import mat73"
   ]
  },
  {
   "cell_type": "code",
   "execution_count": 5,
   "id": "cb8db945-2ed5-4948-bc20-fa3c7dcd30e7",
   "metadata": {},
   "outputs": [
    {
     "ename": "FileNotFoundError",
     "evalue": "[Errno 2] Unable to synchronously open file (unable to open file: name = 'E:/Shares/SMB_files/Jessica/video_220713_s2_c5.mat', errno = 2, error message = 'No such file or directory', flags = 0, o_flags = 0)",
     "output_type": "error",
     "traceback": [
      "\u001b[1;31m---------------------------------------------------------------------------\u001b[0m",
      "\u001b[1;31mFileNotFoundError\u001b[0m                         Traceback (most recent call last)",
      "Cell \u001b[1;32mIn[5], line 3\u001b[0m\n\u001b[0;32m      1\u001b[0m \u001b[38;5;66;03m#Processing for 1 Matlab variable\u001b[39;00m\n\u001b[0;32m      2\u001b[0m data_path \u001b[38;5;241m=\u001b[39m \u001b[38;5;124m\"\u001b[39m\u001b[38;5;124mE:/Shares/SMB_files/Jessica/video_220713_s2_c5.mat\u001b[39m\u001b[38;5;124m\"\u001b[39m\n\u001b[1;32m----> 3\u001b[0m file \u001b[38;5;241m=\u001b[39m \u001b[43mmat73\u001b[49m\u001b[38;5;241;43m.\u001b[39;49m\u001b[43mloadmat\u001b[49m\u001b[43m(\u001b[49m\u001b[43mdata_path\u001b[49m\u001b[43m)\u001b[49m\n\u001b[0;32m      4\u001b[0m data_x, data_y \u001b[38;5;241m=\u001b[39m file[\u001b[38;5;124m\"\u001b[39m\u001b[38;5;124mvar1\u001b[39m\u001b[38;5;124m\"\u001b[39m][\u001b[38;5;124m\"\u001b[39m\u001b[38;5;124mvideo_file\u001b[39m\u001b[38;5;124m\"\u001b[39m][\u001b[38;5;241m3\u001b[39m:\u001b[38;5;241m5\u001b[39m]\n\u001b[0;32m      5\u001b[0m all_trajectories \u001b[38;5;241m=\u001b[39m []\n",
      "File \u001b[1;32m~\\AppData\\Local\\miniconda3\\envs\\step_env\\lib\\site-packages\\mat73\\core.py:329\u001b[0m, in \u001b[0;36mloadmat\u001b[1;34m(file, use_attrdict, only_include, verbose)\u001b[0m\n\u001b[0;32m    325\u001b[0m         logging\u001b[38;5;241m.\u001b[39mwarning(\u001b[38;5;124m'\u001b[39m\u001b[38;5;124mCan only load MATLAB .mat file, this file type might \u001b[39m\u001b[38;5;124m'\u001b[39m\n\u001b[0;32m    326\u001b[0m                         \u001b[38;5;124mf\u001b[39m\u001b[38;5;124m'\u001b[39m\u001b[38;5;124mbe unsupported: \u001b[39m\u001b[38;5;132;01m{\u001b[39;00mfile\u001b[38;5;132;01m}\u001b[39;00m\u001b[38;5;124m'\u001b[39m)\n\u001b[0;32m    328\u001b[0m \u001b[38;5;28;01mtry\u001b[39;00m:\n\u001b[1;32m--> 329\u001b[0m     \u001b[38;5;28;01mwith\u001b[39;00m \u001b[43mh5py\u001b[49m\u001b[38;5;241;43m.\u001b[39;49m\u001b[43mFile\u001b[49m\u001b[43m(\u001b[49m\u001b[43mfile\u001b[49m\u001b[43m,\u001b[49m\u001b[43m \u001b[49m\u001b[38;5;124;43m'\u001b[39;49m\u001b[38;5;124;43mr\u001b[39;49m\u001b[38;5;124;43m'\u001b[39;49m\u001b[43m)\u001b[49m \u001b[38;5;28;01mas\u001b[39;00m hdf5:\n\u001b[0;32m    330\u001b[0m         dictionary \u001b[38;5;241m=\u001b[39m decoder\u001b[38;5;241m.\u001b[39mmat2dict(hdf5)\n\u001b[0;32m    331\u001b[0m     \u001b[38;5;28;01mreturn\u001b[39;00m dictionary\n",
      "File \u001b[1;32m~\\AppData\\Local\\miniconda3\\envs\\step_env\\lib\\site-packages\\h5py\\_hl\\files.py:562\u001b[0m, in \u001b[0;36mFile.__init__\u001b[1;34m(self, name, mode, driver, libver, userblock_size, swmr, rdcc_nslots, rdcc_nbytes, rdcc_w0, track_order, fs_strategy, fs_persist, fs_threshold, fs_page_size, page_buf_size, min_meta_keep, min_raw_keep, locking, alignment_threshold, alignment_interval, meta_block_size, **kwds)\u001b[0m\n\u001b[0;32m    553\u001b[0m     fapl \u001b[38;5;241m=\u001b[39m make_fapl(driver, libver, rdcc_nslots, rdcc_nbytes, rdcc_w0,\n\u001b[0;32m    554\u001b[0m                      locking, page_buf_size, min_meta_keep, min_raw_keep,\n\u001b[0;32m    555\u001b[0m                      alignment_threshold\u001b[38;5;241m=\u001b[39malignment_threshold,\n\u001b[0;32m    556\u001b[0m                      alignment_interval\u001b[38;5;241m=\u001b[39malignment_interval,\n\u001b[0;32m    557\u001b[0m                      meta_block_size\u001b[38;5;241m=\u001b[39mmeta_block_size,\n\u001b[0;32m    558\u001b[0m                      \u001b[38;5;241m*\u001b[39m\u001b[38;5;241m*\u001b[39mkwds)\n\u001b[0;32m    559\u001b[0m     fcpl \u001b[38;5;241m=\u001b[39m make_fcpl(track_order\u001b[38;5;241m=\u001b[39mtrack_order, fs_strategy\u001b[38;5;241m=\u001b[39mfs_strategy,\n\u001b[0;32m    560\u001b[0m                      fs_persist\u001b[38;5;241m=\u001b[39mfs_persist, fs_threshold\u001b[38;5;241m=\u001b[39mfs_threshold,\n\u001b[0;32m    561\u001b[0m                      fs_page_size\u001b[38;5;241m=\u001b[39mfs_page_size)\n\u001b[1;32m--> 562\u001b[0m     fid \u001b[38;5;241m=\u001b[39m \u001b[43mmake_fid\u001b[49m\u001b[43m(\u001b[49m\u001b[43mname\u001b[49m\u001b[43m,\u001b[49m\u001b[43m \u001b[49m\u001b[43mmode\u001b[49m\u001b[43m,\u001b[49m\u001b[43m \u001b[49m\u001b[43muserblock_size\u001b[49m\u001b[43m,\u001b[49m\u001b[43m \u001b[49m\u001b[43mfapl\u001b[49m\u001b[43m,\u001b[49m\u001b[43m \u001b[49m\u001b[43mfcpl\u001b[49m\u001b[43m,\u001b[49m\u001b[43m \u001b[49m\u001b[43mswmr\u001b[49m\u001b[38;5;241;43m=\u001b[39;49m\u001b[43mswmr\u001b[49m\u001b[43m)\u001b[49m\n\u001b[0;32m    564\u001b[0m \u001b[38;5;28;01mif\u001b[39;00m \u001b[38;5;28misinstance\u001b[39m(libver, \u001b[38;5;28mtuple\u001b[39m):\n\u001b[0;32m    565\u001b[0m     \u001b[38;5;28mself\u001b[39m\u001b[38;5;241m.\u001b[39m_libver \u001b[38;5;241m=\u001b[39m libver\n",
      "File \u001b[1;32m~\\AppData\\Local\\miniconda3\\envs\\step_env\\lib\\site-packages\\h5py\\_hl\\files.py:235\u001b[0m, in \u001b[0;36mmake_fid\u001b[1;34m(name, mode, userblock_size, fapl, fcpl, swmr)\u001b[0m\n\u001b[0;32m    233\u001b[0m     \u001b[38;5;28;01mif\u001b[39;00m swmr \u001b[38;5;129;01mand\u001b[39;00m swmr_support:\n\u001b[0;32m    234\u001b[0m         flags \u001b[38;5;241m|\u001b[39m\u001b[38;5;241m=\u001b[39m h5f\u001b[38;5;241m.\u001b[39mACC_SWMR_READ\n\u001b[1;32m--> 235\u001b[0m     fid \u001b[38;5;241m=\u001b[39m \u001b[43mh5f\u001b[49m\u001b[38;5;241;43m.\u001b[39;49m\u001b[43mopen\u001b[49m\u001b[43m(\u001b[49m\u001b[43mname\u001b[49m\u001b[43m,\u001b[49m\u001b[43m \u001b[49m\u001b[43mflags\u001b[49m\u001b[43m,\u001b[49m\u001b[43m \u001b[49m\u001b[43mfapl\u001b[49m\u001b[38;5;241;43m=\u001b[39;49m\u001b[43mfapl\u001b[49m\u001b[43m)\u001b[49m\n\u001b[0;32m    236\u001b[0m \u001b[38;5;28;01melif\u001b[39;00m mode \u001b[38;5;241m==\u001b[39m \u001b[38;5;124m'\u001b[39m\u001b[38;5;124mr+\u001b[39m\u001b[38;5;124m'\u001b[39m:\n\u001b[0;32m    237\u001b[0m     fid \u001b[38;5;241m=\u001b[39m h5f\u001b[38;5;241m.\u001b[39mopen(name, h5f\u001b[38;5;241m.\u001b[39mACC_RDWR, fapl\u001b[38;5;241m=\u001b[39mfapl)\n",
      "File \u001b[1;32mh5py\\_objects.pyx:54\u001b[0m, in \u001b[0;36mh5py._objects.with_phil.wrapper\u001b[1;34m()\u001b[0m\n",
      "File \u001b[1;32mh5py\\_objects.pyx:55\u001b[0m, in \u001b[0;36mh5py._objects.with_phil.wrapper\u001b[1;34m()\u001b[0m\n",
      "File \u001b[1;32mh5py\\h5f.pyx:102\u001b[0m, in \u001b[0;36mh5py.h5f.open\u001b[1;34m()\u001b[0m\n",
      "\u001b[1;31mFileNotFoundError\u001b[0m: [Errno 2] Unable to synchronously open file (unable to open file: name = 'E:/Shares/SMB_files/Jessica/video_220713_s2_c5.mat', errno = 2, error message = 'No such file or directory', flags = 0, o_flags = 0)"
     ]
    }
   ],
   "source": [
    "#Processing for 1 Matlab variable\n",
    "data_path = \"E:/Shares/SMB_files/Jessica/video_220713_s2_c5.mat\"\n",
    "file = mat73.loadmat(data_path)\n",
    "data_x, data_y = file[\"var1\"][\"video_file\"][3:5]\n",
    "all_trajectories = []\n",
    "for x, y in zip(data_x, data_y):\n",
    "    x = torch.tensor(x[~np.isnan(x)])\n",
    "    y = torch.tensor(y[~np.isnan(y)])\n",
    "    if len(x) >= 12: # at least > 0\n",
    "        traj = torch.stack((x-x[0], y-y[0]))\n",
    "        all_trajectories.append(traj)"
   ]
  },
  {
   "cell_type": "code",
   "execution_count": 7,
   "id": "56e439f7-d6c1-4c45-a6f9-d96ea751088d",
   "metadata": {},
   "outputs": [],
   "source": [
    "##Processing for multiple Matlab variables\n",
    "from tkinter import Tk, filedialog"
   ]
  },
  {
   "cell_type": "code",
   "execution_count": 8,
   "id": "76b35c14-5378-45f7-8a41-176d2dd8a651",
   "metadata": {},
   "outputs": [],
   "source": [
    "# Create the Tkinter root window (it won't be shown)\n",
    "root = Tk()\n",
    "root.withdraw()\n",
    "root.attributes('-topmost',True)\n",
    "\n",
    "# Use the file dialog to select multiple files\n",
    "data_paths = filedialog.askopenfilenames(\n",
    "    title=\"Select MATLAB Files\",\n",
    "    filetypes=[(\"MATLAB files\", \"*.mat\")],\n",
    "    initialdir=\"E:\\Shares\\SMB_files\\Jessica\",\n",
    ")"
   ]
  },
  {
   "cell_type": "code",
   "execution_count": 9,
   "id": "6491ff00-b94c-4f91-9f47-f550d802c42a",
   "metadata": {
    "editable": true,
    "slideshow": {
     "slide_type": ""
    },
    "tags": []
   },
   "outputs": [
    {
     "name": "stderr",
     "output_type": "stream",
     "text": [
      "ERROR:root:ERROR: MATLAB type not supported: table, (uint32)\n",
      "ERROR:root:ERROR: MATLAB type not supported: table, (uint32)\n"
     ]
    }
   ],
   "source": [
    "# Create an empty list to store all trajectories\n",
    "all_trajectories = []\n",
    "\n",
    "# Loop through each selected file\n",
    "for data_path in data_paths:\n",
    "    file = mat73.loadmat(data_path)\n",
    "\n",
    "    # Extract x and y data from the current file\n",
    "    data_x, data_y = file[\"var1\"][\"video_file\"][3:5]\n",
    "\n",
    "    # Create a list to store trajectories for the current file\n",
    "    trajectories = []\n",
    "\n",
    "    # Loop through x and y data and create trajectories\n",
    "    for x, y in zip(data_x, data_y):\n",
    "        x = torch.tensor(x[~np.isnan(x)])\n",
    "        y = torch.tensor(y[~np.isnan(y)])\n",
    "        if len(x) >= 12:  # At least > 0\n",
    "            traj = torch.stack((x - x[0], y - y[0]))\n",
    "            trajectories.append(traj)\n",
    "\n",
    "    # Append trajectories of the current file to the overall list\n",
    "    all_trajectories.extend(trajectories)"
   ]
  },
  {
   "cell_type": "code",
   "execution_count": 7,
   "id": "65bea458-297e-4cbf-9d38-0384596e3909",
   "metadata": {},
   "outputs": [],
   "source": [
    "# Create the Tkinter root window for the second dataset\n",
    "root = Tk()\n",
    "root.withdraw()\n",
    "root.attributes('-topmost',True)\n",
    "\n",
    "# Use the file dialog to select multiple files\n",
    "data_paths = filedialog.askopenfilenames(\n",
    "    title=\"Select MATLAB Files\",\n",
    "    filetypes=[(\"MATLAB files\", \"*.mat\")],\n",
    "    initialdir=\"E:\\Shares\\SMB_files\\Jessica\",\n",
    ")"
   ]
  },
  {
   "cell_type": "code",
   "execution_count": 8,
   "id": "3aa514e1-9ba0-48df-8f80-6053fdb35c80",
   "metadata": {},
   "outputs": [
    {
     "name": "stderr",
     "output_type": "stream",
     "text": [
      "ERROR:root:ERROR: MATLAB type not supported: table, (uint32)\n",
      "ERROR:root:ERROR: MATLAB type not supported: table, (uint32)\n",
      "ERROR:root:ERROR: MATLAB type not supported: table, (uint32)\n",
      "ERROR:root:ERROR: MATLAB type not supported: table, (uint32)\n",
      "ERROR:root:ERROR: MATLAB type not supported: table, (uint32)\n",
      "ERROR:root:ERROR: MATLAB type not supported: table, (uint32)\n",
      "ERROR:root:ERROR: MATLAB type not supported: table, (uint32)\n",
      "ERROR:root:ERROR: MATLAB type not supported: table, (uint32)\n",
      "ERROR:root:ERROR: MATLAB type not supported: table, (uint32)\n",
      "ERROR:root:ERROR: MATLAB type not supported: table, (uint32)\n",
      "ERROR:root:ERROR: MATLAB type not supported: table, (uint32)\n",
      "ERROR:root:ERROR: MATLAB type not supported: table, (uint32)\n",
      "ERROR:root:ERROR: MATLAB type not supported: table, (uint32)\n",
      "ERROR:root:ERROR: MATLAB type not supported: table, (uint32)\n",
      "ERROR:root:ERROR: MATLAB type not supported: table, (uint32)\n",
      "ERROR:root:ERROR: MATLAB type not supported: table, (uint32)\n",
      "ERROR:root:ERROR: MATLAB type not supported: table, (uint32)\n",
      "ERROR:root:ERROR: MATLAB type not supported: table, (uint32)\n",
      "ERROR:root:ERROR: MATLAB type not supported: table, (uint32)\n",
      "ERROR:root:ERROR: MATLAB type not supported: table, (uint32)\n"
     ]
    }
   ],
   "source": [
    "# Create an empty list to store all trajectories\n",
    "all_trajectories2 = []\n",
    "\n",
    "# Loop through each selected file\n",
    "for data_path in data_paths:\n",
    "    file = mat73.loadmat(data_path)\n",
    "\n",
    "    # Extract x and y data from the current file\n",
    "    data_x, data_y = file[\"var1\"][\"video_file\"][3:5]\n",
    "\n",
    "    # Create a list to store trajectories for the current file\n",
    "    trajectories = []\n",
    "\n",
    "    # Loop through x and y data and create trajectories\n",
    "    for x, y in zip(data_x, data_y):\n",
    "        x = torch.tensor(x[~np.isnan(x)])\n",
    "        y = torch.tensor(y[~np.isnan(y)])\n",
    "        if len(x) >= 12:  # At least > 0\n",
    "            traj = torch.stack((x - x[0], y - y[0]))\n",
    "            trajectories.append(traj)\n",
    "\n",
    "    # Append trajectories of the current file to the overall list\n",
    "    all_trajectories2.extend(trajectories)"
   ]
  },
  {
   "cell_type": "markdown",
   "id": "3885fc5d-a756-4608-9422-7d2f5de2f96f",
   "metadata": {},
   "source": [
    "# Load the model"
   ]
  },
  {
   "cell_type": "code",
   "execution_count": 10,
   "id": "5d9e4362-2b7c-4c8b-8710-d13cd03d54aa",
   "metadata": {},
   "outputs": [],
   "source": [
    "model_dir = \"../../models\"\n",
    "dim = 2"
   ]
  },
  {
   "cell_type": "code",
   "execution_count": 11,
   "id": "e1c3e7cc-af09-4bce-bc75-b7ecf17368c1",
   "metadata": {},
   "outputs": [
    {
     "name": "stderr",
     "output_type": "stream",
     "text": [
      "C:\\Users\\jangulo\\AppData\\Local\\miniconda3\\envs\\step_env\\lib\\site-packages\\torch\\nn\\modules\\transformer.py:282: UserWarning: enable_nested_tensor is True, but self.use_nested_tensor is False because encoder_layer.self_attn.batch_first was not True(use batch_first for better inference performance)\n",
      "  warnings.warn(f\"enable_nested_tensor is True, but self.use_nested_tensor is False because {why_not_sparsity_fast_path}\")\n",
      "C:\\Users\\jangulo\\AppData\\Local\\miniconda3\\envs\\step_env\\lib\\site-packages\\fastai\\torch_core.py:263: UserWarning: 'has_mps' is deprecated, please use 'torch.backends.mps.is_built()'\n",
      "  return getattr(torch, 'has_mps', False)\n"
     ]
    }
   ],
   "source": [
    "dls = DataLoaders.from_dsets([], []) # Empty train and validation datasets\n",
    "\n",
    "# Diffusion coefficient\n",
    "# model_diff = XResAttn(dim, n_class=1, stem_szs=(64,), conv_blocks=[1, 1, 1], block_szs=[128, 256, 512], pos_enc=False,\n",
    "#                  n_encoder_layers=4, dim_ff=512, nhead_enc=8, linear_layers=[], norm=False, yrange=(-3.1, 3.1))\n",
    "# model_diff = XResAttn(dim, n_class=1, stem_szs=(64,), conv_blocks=[1, 1, 1], block_szs=[128, 256, 512], pos_enc=False,\n",
    "#                  n_encoder_layers=4, dim_ff=512, nhead_enc=8, linear_layers=[], norm=False, yrange=(-4.1, 4.1))\n",
    "model_diff = LogXResAttn(dim, n_class=1, stem_szs=(64,), conv_blocks=[1, 1, 1], block_szs=[128, 256, 512], pos_enc=False,\n",
    "                         n_encoder_layers=4, dim_ff=512, nhead_enc=8, linear_layers=[], norm=False, yrange=(-7.1, 2.1))\n",
    "model_diff.to(default_device())\n",
    "\n",
    "# Anomalous exponent\n",
    "model_exp = XResAttn(dim, n_class=1, stem_szs=(32,), conv_blocks=[1, 1, 1], block_szs=[128, 256, 512], \n",
    "                     pos_enc=False, n_encoder_layers=4, dim_ff=512, nhead_enc=8, linear_layers=[])\n",
    "model_exp.to(default_device())\n",
    "\n",
    "# Create the learners\n",
    "learn_diff = Learner(dls, model_diff, loss_func=L1LossFlat(), model_dir=model_dir)\n",
    "learn_exp = Learner(dls, model_exp, loss_func=L1LossFlat(), model_dir=model_dir)"
   ]
  },
  {
   "cell_type": "code",
   "execution_count": 21,
   "id": "6cb6b2d0-593b-4586-bce6-e73fc7ad2c3a",
   "metadata": {},
   "outputs": [],
   "source": [
    "# Load diffusion model\n",
    "learn_diff.load(f'logxresattn_bm_{dim}d_1_to_4_cp_juan_72')\n",
    "learn_diff.model.eval();"
   ]
  },
  {
   "cell_type": "code",
   "execution_count": 17,
   "id": "0b70d9bc-0083-4e70-8df9-909953720775",
   "metadata": {},
   "outputs": [],
   "source": [
    "#Load alpha model\n",
    "learn_exp.load(f'xresattn_exp_{dim}d_no_pe_2')\n",
    "learn_exp.model.eval();"
   ]
  },
  {
   "cell_type": "markdown",
   "id": "f9d5b111-4e13-42e4-8407-6dad8a36b594",
   "metadata": {},
   "source": [
    "# Get predictions"
   ]
  },
  {
   "cell_type": "code",
   "execution_count": 22,
   "id": "1cb60e21-9acd-4fd8-96a5-33cfc149c528",
   "metadata": {},
   "outputs": [],
   "source": [
    "def predict(model, x):\n",
    "    return to_detach(model(x.cuda().T.unsqueeze(0).float()).squeeze())"
   ]
  },
  {
   "cell_type": "code",
   "execution_count": 20,
   "id": "35c15962-e193-459a-92d0-46e3cae9fe41",
   "metadata": {},
   "outputs": [
    {
     "ename": "AssertionError",
     "evalue": "Torch not compiled with CUDA enabled",
     "output_type": "error",
     "traceback": [
      "\u001b[1;31m---------------------------------------------------------------------------\u001b[0m",
      "\u001b[1;31mAssertionError\u001b[0m                            Traceback (most recent call last)",
      "Cell \u001b[1;32mIn[20], line 1\u001b[0m\n\u001b[1;32m----> 1\u001b[0m pred_d \u001b[38;5;241m=\u001b[39m [predict(learn_diff\u001b[38;5;241m.\u001b[39mmodel, traj) \u001b[38;5;28;01mfor\u001b[39;00m traj \u001b[38;5;129;01min\u001b[39;00m all_trajectories]\n\u001b[0;32m      2\u001b[0m pred_d2 \u001b[38;5;241m=\u001b[39m [predict(learn_diff\u001b[38;5;241m.\u001b[39mmodel, traj) \u001b[38;5;28;01mfor\u001b[39;00m traj \u001b[38;5;129;01min\u001b[39;00m all_trajectories2]\n",
      "Cell \u001b[1;32mIn[20], line 1\u001b[0m, in \u001b[0;36m<listcomp>\u001b[1;34m(.0)\u001b[0m\n\u001b[1;32m----> 1\u001b[0m pred_d \u001b[38;5;241m=\u001b[39m [\u001b[43mpredict\u001b[49m\u001b[43m(\u001b[49m\u001b[43mlearn_diff\u001b[49m\u001b[38;5;241;43m.\u001b[39;49m\u001b[43mmodel\u001b[49m\u001b[43m,\u001b[49m\u001b[43m \u001b[49m\u001b[43mtraj\u001b[49m\u001b[43m)\u001b[49m \u001b[38;5;28;01mfor\u001b[39;00m traj \u001b[38;5;129;01min\u001b[39;00m all_trajectories]\n\u001b[0;32m      2\u001b[0m pred_d2 \u001b[38;5;241m=\u001b[39m [predict(learn_diff\u001b[38;5;241m.\u001b[39mmodel, traj) \u001b[38;5;28;01mfor\u001b[39;00m traj \u001b[38;5;129;01min\u001b[39;00m all_trajectories2]\n",
      "Cell \u001b[1;32mIn[19], line 2\u001b[0m, in \u001b[0;36mpredict\u001b[1;34m(model, x)\u001b[0m\n\u001b[0;32m      1\u001b[0m \u001b[38;5;28;01mdef\u001b[39;00m \u001b[38;5;21mpredict\u001b[39m(model, x):\n\u001b[1;32m----> 2\u001b[0m     \u001b[38;5;28;01mreturn\u001b[39;00m to_detach(model(\u001b[43mx\u001b[49m\u001b[38;5;241;43m.\u001b[39;49m\u001b[43mcuda\u001b[49m\u001b[43m(\u001b[49m\u001b[43m)\u001b[49m\u001b[38;5;241m.\u001b[39mT\u001b[38;5;241m.\u001b[39munsqueeze(\u001b[38;5;241m0\u001b[39m)\u001b[38;5;241m.\u001b[39mfloat())\u001b[38;5;241m.\u001b[39msqueeze())\n",
      "File \u001b[1;32m~\\AppData\\Local\\miniconda3\\envs\\step_env\\lib\\site-packages\\torch\\cuda\\__init__.py:289\u001b[0m, in \u001b[0;36m_lazy_init\u001b[1;34m()\u001b[0m\n\u001b[0;32m    284\u001b[0m     \u001b[38;5;28;01mraise\u001b[39;00m \u001b[38;5;167;01mRuntimeError\u001b[39;00m(\n\u001b[0;32m    285\u001b[0m         \u001b[38;5;124m\"\u001b[39m\u001b[38;5;124mCannot re-initialize CUDA in forked subprocess. To use CUDA with \u001b[39m\u001b[38;5;124m\"\u001b[39m\n\u001b[0;32m    286\u001b[0m         \u001b[38;5;124m\"\u001b[39m\u001b[38;5;124mmultiprocessing, you must use the \u001b[39m\u001b[38;5;124m'\u001b[39m\u001b[38;5;124mspawn\u001b[39m\u001b[38;5;124m'\u001b[39m\u001b[38;5;124m start method\u001b[39m\u001b[38;5;124m\"\u001b[39m\n\u001b[0;32m    287\u001b[0m     )\n\u001b[0;32m    288\u001b[0m \u001b[38;5;28;01mif\u001b[39;00m \u001b[38;5;129;01mnot\u001b[39;00m \u001b[38;5;28mhasattr\u001b[39m(torch\u001b[38;5;241m.\u001b[39m_C, \u001b[38;5;124m\"\u001b[39m\u001b[38;5;124m_cuda_getDeviceCount\u001b[39m\u001b[38;5;124m\"\u001b[39m):\n\u001b[1;32m--> 289\u001b[0m     \u001b[38;5;28;01mraise\u001b[39;00m \u001b[38;5;167;01mAssertionError\u001b[39;00m(\u001b[38;5;124m\"\u001b[39m\u001b[38;5;124mTorch not compiled with CUDA enabled\u001b[39m\u001b[38;5;124m\"\u001b[39m)\n\u001b[0;32m    290\u001b[0m \u001b[38;5;28;01mif\u001b[39;00m _cudart \u001b[38;5;129;01mis\u001b[39;00m \u001b[38;5;28;01mNone\u001b[39;00m:\n\u001b[0;32m    291\u001b[0m     \u001b[38;5;28;01mraise\u001b[39;00m \u001b[38;5;167;01mAssertionError\u001b[39;00m(\n\u001b[0;32m    292\u001b[0m         \u001b[38;5;124m\"\u001b[39m\u001b[38;5;124mlibcudart functions unavailable. It looks like you have a broken build?\u001b[39m\u001b[38;5;124m\"\u001b[39m\n\u001b[0;32m    293\u001b[0m     )\n",
      "\u001b[1;31mAssertionError\u001b[0m: Torch not compiled with CUDA enabled"
     ]
    }
   ],
   "source": [
    "pred_d = [predict(learn_diff.model, traj) for traj in all_trajectories]\n",
    "pred_d2 = [predict(learn_diff.model, traj) for traj in all_trajectories2]"
   ]
  },
  {
   "cell_type": "code",
   "execution_count": null,
   "id": "18748cc3-3151-4321-a187-1e426fcb8a3d",
   "metadata": {},
   "outputs": [],
   "source": [
    "pred_alpha = [predict(learn_diff.model, traj) for traj in all_trajectories]\n",
    "pred_alpha2 = [predict(learn_diff.model, traj) for traj in all_trajectories2]"
   ]
  },
  {
   "cell_type": "markdown",
   "id": "81f4219d-3444-4a26-bce1-29c5e2a3291e",
   "metadata": {},
   "source": [
    "# Ensamble histograms"
   ]
  },
  {
   "cell_type": "code",
   "execution_count": 17,
   "id": "a70f61ce-5628-4b05-a5fb-8ebe553c4f35",
   "metadata": {},
   "outputs": [
    {
     "data": {
      "text/plain": [
       "<matplotlib.legend.Legend at 0x25f074b5570>"
      ]
     },
     "execution_count": 17,
     "metadata": {},
     "output_type": "execute_result"
    },
    {
     "data": {
      "image/png": "[encoded data removed]",
      "text/plain": [
       "<Figure size 640x480 with 1 Axes>"
      ]
     },
     "metadata": {},
     "output_type": "display_data"
    }
   ],
   "source": [
    "data = torch.cat(pred_d).numpy()\n",
    "data2 = torch.cat(pred_d2).numpy()\n",
    "bin_size1 = int(np.ceil(np.log10(len(data))) + 1)\n",
    "bin_size2 = int(np.ceil(np.log10(len(data2))) + 1)\n",
    "chosen_bin_size = min(bin_size1, bin_size2)\n",
    "plt.hist(data, bins=chosen_bin_size, alpha=0.5, color='blue', label='WT', density=True)\n",
    "plt.hist(data2, bins=chosen_bin_size, alpha=0.5, color='orange', label='25-HC', density=True)\n",
    "plt.xlabel('Diffusion Coefficient [$\\mu m^2/s$]')\n",
    "plt.ylabel('Frequency')\n",
    "plt.legend()"
   ]
  },
  {
   "cell_type": "code",
   "execution_count": 18,
   "id": "36ba2e47-1898-498a-9a3a-a994c8c95903",
   "metadata": {},
   "outputs": [],
   "source": [
    "preds_mean = [p.mean().numpy().item() for p in preds]\n",
    "preds_mean2 = [p.mean().numpy().item() for p in preds2]"
   ]
  },
  {
   "cell_type": "code",
   "execution_count": 21,
   "id": "b0e0fc36-c6ee-4bac-a4fc-2f57336d3aa8",
   "metadata": {},
   "outputs": [
    {
     "data": {
      "text/plain": [
       "<matplotlib.legend.Legend at 0x25f213a6ce0>"
      ]
     },
     "execution_count": 21,
     "metadata": {},
     "output_type": "execute_result"
    },
    {
     "data": {
      "image/png": "[encoded data removed]",
      "text/plain": [
       "<Figure size 640x480 with 1 Axes>"
      ]
     },
     "metadata": {},
     "output_type": "display_data"
    }
   ],
   "source": [
    "bin_size1 = int(np.ceil(np.log2(len(preds_mean))) + 1)\n",
    "bin_size2 = int(np.ceil(np.log2(len(preds_mean2))) + 1)\n",
    "chosen_bin_size = min(bin_size1, bin_size2)\n",
    "plt.hist(preds_mean, bins=chosen_bin_size, alpha=0.5, color='blue', label='WT', density=True);\n",
    "plt.hist(preds_mean2, bins=chosen_bin_size, alpha=0.5, color='orange', label='25-HC', density=True);\n",
    "plt.xlabel('Mean Diffusion Coefficient [$\\mu m^2/s$]')\n",
    "plt.ylabel('Frequency')\n",
    "plt.legend()"
   ]
  },
  {
   "cell_type": "markdown",
   "id": "469d93a4-62b7-4356-b9b9-b00adf1d83b6",
   "metadata": {},
   "source": [
    "# Prediction examples"
   ]
  },
  {
   "cell_type": "code",
   "execution_count": 31,
   "id": "8d7211e5-e2aa-4a72-8c81-570fa4ca3a8e",
   "metadata": {},
   "outputs": [
    {
     "data": {
      "text/plain": [
       "(-5.0, 1.0)"
      ]
     },
     "execution_count": 31,
     "metadata": {},
     "output_type": "execute_result"
    },
    {
     "data": {
      "image/png": "[encoded data removed]",
      "text/plain": [
       "<Figure size 1400x400 with 2 Axes>"
      ]
     },
     "metadata": {},
     "output_type": "display_data"
    }
   ],
   "source": [
    "idx = 9\n",
    "traj = trajectories[idx]\n",
    "\n",
    "fix, axes = plt.subplots(1, 2, figsize=(14, 4))\n",
    "axes[0].plot(traj[0], traj[1])\n",
    "axes[0].scatter(traj[0], traj[1], c=np.arange(len(traj[0])))\n",
    "\n",
    "axes[1].plot(preds[idx])\n",
    "axes[1].set_ylim(-5, 1)"
   ]
  },
  {
   "cell_type": "markdown",
   "id": "0b8e84ac-ca15-4bb9-9f2b-cfa8a4ffb182",
   "metadata": {},
   "source": [
    "# Trajectory segmentation"
   ]
  },
  {
   "cell_type": "code",
   "execution_count": 83,
   "id": "37960f7c-65b0-489e-8359-b7ec679013a6",
   "metadata": {},
   "outputs": [
    {
     "name": "stdout",
     "output_type": "stream",
     "text": [
      "x   -1.039064\n",
      "Name: 0, dtype: float32\n"
     ]
    }
   ],
   "source": []
  },
  {
   "cell_type": "code",
   "execution_count": 97,
   "id": "a412cfa8-0665-4f79-898f-9442590ac0bc",
   "metadata": {},
   "outputs": [],
   "source": [
    "def find_segments(pred_d, traj, pen=1, **kwargs):\n",
    "    import ruptures as rpt\n",
    "    alg = rpt.KernelCPD(**kwargs).fit(pred_d) # Only changes in D\n",
    "    #alg = rpt.KernelCPD(**kwargs).fit(pred)\n",
    "    cps = np.concatenate(([0], alg.predict(pen=pen)))\n",
    "    segments, Ds, Ds_tamsd, angles = [], [], [], []   \n",
    "    new_d = np.ones_like(pred_d)\n",
    "    d_tamsd = np.ones_like(pred_d)\n",
    "    for i, j in zip(cps[:-1], cps[1:]):\n",
    "        segment = traj[:, i:j]\n",
    "        D_seg = pred_d[i:j].mean()\n",
    "        new_d[i:j] *= D_seg\n",
    "        t_lag = [2, 3, 4] if j-i >= 5 else [2, 3]\n",
    "        D_tamsd = np.log10(diffusion_coefficient_tmsd(tensor(segment).T, t_lag))\n",
    "        d_tamsd[i:j] *= D_tamsd\n",
    "        if np.abs(i-j) > 0:\n",
    "            angles.append(dataset_angles([segment]))\n",
    "            segments.append(segment)\n",
    "        Ds.append(D_seg)\n",
    "        Ds_tamsd.append(D_tamsd)\n",
    "\n",
    "    return new_d, d_tamsd, segments, Ds, Ds_tamsd, angles"
   ]
  },
  {
   "cell_type": "code",
   "execution_count": null,
   "id": "1b1c331e-e9af-4d43-ab5c-eab7bbe2349f",
   "metadata": {},
   "outputs": [],
   "source": [
    "# Convert preds and all_trajectories into a compatible DataFrames (df)\n"
   ]
  },
  {
   "cell_type": "code",
   "execution_count": null,
   "id": "ae57a82f-278b-45d7-9cb2-020129de5cbc",
   "metadata": {},
   "outputs": [],
   "source": [
    "# Get segmentation done\n",
    "seg_ds, seg_ds_tamsd, seg_angs  = [], [], [], [], []\n",
    "for traj, pred_d in tqdm(zip(all_trajectories, preds)):\n",
    "    x, y = traj[0], traj[1]\n",
    "    # traj = np.array([x-x[0], y-y[0]])\n",
    "    traj = np.concatenate([np.zeros((2, 1)), np.array([x, y])], axis=1)\n",
    "    out = find_segments(pred_d, traj, min_size=4, pen=0.05) # previously min_size=10, pen=0.1\n",
    "    new_d, d_tamsd, segments, d_seg, dtamsd_seg, angs = out\n",
    "    exp.df.loc[mask, 'D_segment'] = new_d\n",
    "    exp.df.loc[mask, 'D_24_segment'] = d_tamsd\n",
    "    seg_ds.append(d_seg)\n",
    "    seg_ds_tamsd.append(dtamsd_seg)\n",
    "    seg_angs.append(angs)\n",
    "    seg_exp.append([exp_idx]*len(segments))\n",
    "    trajs.append(segments)\n",
    "seg_ds = np.concatenate(seg_ds)\n",
    "seg_ds_tamsd = np.concatenate(seg_ds_tamsd)\n",
    "seg_exp = np.concatenate(seg_exp)\n",
    "\n",
    "exp.trajs = trajs\n",
    "exp.seg_ds = seg_ds\n",
    "exp.seg_ds_tamsd = seg_ds_tamsd\n",
    "exp.seg_alphas = seg_alphas\n",
    "exp.seg_angs = seg_angs\n",
    "exp.seg_lens = np.array([seg.shape[-1] for traj in exp.trajs for seg in traj])\n",
    "exp.seg_radi = [[confinement_radius(seg) for seg in traj] for traj in exp.trajs]\n",
    "exp.seg_exp = seg_exp"
   ]
  },
  {
   "cell_type": "code",
   "execution_count": 96,
   "id": "d1308d16-3fc8-41a3-9b64-ffa646a09392",
   "metadata": {},
   "outputs": [],
   "source": [
    "def find_segments(pred_d, pred_alpha, traj, pen=1, **kwargs):\n",
    "    import ruptures as rpt\n",
    "    alg = rpt.KernelCPD(**kwargs).fit(pred_d) # Only changes in D\n",
    "    #alg = rpt.KernelCPD(**kwargs).fit(pred)\n",
    "    cps = np.concatenate(([0], alg.predict(pen=pen)))\n",
    "    segments, Ds, Ds_tamsd, alphas, angles = [], [], [], [], []\n",
    "            \n",
    "    new_d, new_a = np.ones_like(pred_d), np.ones_like(pred_alpha)\n",
    "    d_tamsd = np.ones_like(pred_d)\n",
    "    for i, j in zip(cps[:-1], cps[1:]):\n",
    "        segment = traj[:, i:j]\n",
    "        alpha_seg, D_seg = pred_alpha[i:j].mean(), pred_d[i:j].mean()\n",
    "        new_d[i:j] *= D_seg\n",
    "        new_a[i:j] *= alpha_seg\n",
    "        \n",
    "        t_lag = [2, 3, 4] if j-i >= 5 else [2, 3]\n",
    "        D_tamsd = np.log10(diffusion_coefficient_tmsd(tensor(segment).T, t_lag)) + real_units_factor\n",
    "        d_tamsd[i:j] *= D_tamsd\n",
    "        \n",
    "        if np.abs(i-j) > 0:\n",
    "            angles.append(dataset_angles([segment]))\n",
    "            segments.append(segment)\n",
    "        alphas.append(alpha_seg)\n",
    "        Ds.append(D_seg)\n",
    "        Ds_tamsd.append(D_tamsd)\n",
    "\n",
    "    return new_d, d_tamsd, new_a, segments, Ds, Ds_tamsd, alphas, angles"
   ]
  },
  {
   "cell_type": "code",
   "execution_count": null,
   "id": "0ba96c8f-0596-46c6-9bff-95b7ef82e612",
   "metadata": {
    "editable": true,
    "slideshow": {
     "slide_type": ""
    },
    "tags": []
   },
   "outputs": [],
   "source": [
    "for exp in experiments.values(): \n",
    "    trajs = []\n",
    "    seg_ds, seg_ds_tamsd, seg_alphas, seg_angs, seg_exp = [], [], [], [], []\n",
    "\n",
    "    for idx in tqdm(np.unique(exp.df.traj_idx)):\n",
    "        mask = exp.df.traj_idx == idx\n",
    "        exp_idx = int(exp.df.loc[mask, 'exp_idx'].values[0])\n",
    "        pred_d = exp.df.loc[mask, 'D_tfm'].values\n",
    "        pred_alpha = exp.df.loc[mask, 'alpha'].values\n",
    "        x, y = exp.df[mask].x.values, exp.df[mask].y.values\n",
    "        # traj = np.array([x-x[0], y-y[0]])\n",
    "        traj = np.concatenate([np.zeros((2, 1)), np.array([x, y])], axis=1)\n",
    "\n",
    "        out = find_segments(pred_d, pred_alpha, traj, min_size=4, pen=0.05) # previously min_size=10, pen=0.1\n",
    "        new_d, d_tamsd, new_a, segments, d_seg, dtamsd_seg, a_seg, angs = out\n",
    "\n",
    "        exp.df.loc[mask, 'D_segment'] = new_d\n",
    "        exp.df.loc[mask, 'alpha_segment'] = new_a\n",
    "        exp.df.loc[mask, 'D_24_segment'] = d_tamsd\n",
    "        seg_ds.append(d_seg)\n",
    "        seg_ds_tamsd.append(dtamsd_seg)\n",
    "        seg_alphas.append(a_seg)\n",
    "        seg_angs.append(angs)\n",
    "        seg_exp.append([exp_idx]*len(segments))\n",
    "        trajs.append(segments)\n",
    "    seg_ds = np.concatenate(seg_ds)\n",
    "    seg_ds_tamsd = np.concatenate(seg_ds_tamsd)\n",
    "    seg_alphas = np.concatenate(seg_alphas)\n",
    "    seg_exp = np.concatenate(seg_exp)\n",
    "    \n",
    "    exp.trajs = trajs\n",
    "    exp.seg_ds = seg_ds\n",
    "    exp.seg_ds_tamsd = seg_ds_tamsd\n",
    "    exp.seg_alphas = seg_alphas\n",
    "    exp.seg_angs = seg_angs\n",
    "    exp.seg_lens = np.array([seg.shape[-1] for traj in exp.trajs for seg in traj])\n",
    "    exp.seg_radi = [[confinement_radius(seg) for seg in traj] for traj in exp.trajs]\n",
    "    exp.seg_exp = seg_exp"
   ]
  },
  {
   "cell_type": "code",
   "execution_count": null,
   "id": "38b741e1-2c9b-45ba-9223-2cfa575c343f",
   "metadata": {},
   "outputs": [],
   "source": []
  },
  {
   "cell_type": "code",
   "execution_count": null,
   "id": "879dfbfb-402e-4251-a058-3f496544bb04",
   "metadata": {},
   "outputs": [],
   "source": []
  },
  {
   "cell_type": "code",
   "execution_count": null,
   "id": "5a6c130d-8571-4090-9c8c-53bb995d6de2",
   "metadata": {},
   "outputs": [],
   "source": []
  },
  {
   "cell_type": "code",
   "execution_count": null,
   "id": "89305aeb-6491-4b37-a9e3-e5490974b21b",
   "metadata": {},
   "outputs": [],
   "source": []
  }
 ],
 "metadata": {
  "kernelspec": {
   "display_name": "Python 3 (ipykernel)",
   "language": "python",
   "name": "python3"
  },
  "language_info": {
   "codemirror_mode": {
    "name": "ipython",
    "version": 3
   },
   "file_extension": ".py",
   "mimetype": "text/x-python",
   "name": "python",
   "nbconvert_exporter": "python",
   "pygments_lexer": "ipython3",
   "version": "3.10.13"
  },
  "vscode": {
   "interpreter": {
    "hash": "aee8b7b246df8f9039afb4144a1f6fd8d2ca17a180786b69acc140d282b71a49"
   }
  }
 },
 "nbformat": 4,
 "nbformat_minor": 5
}
